{
 "cells": [
  {
   "cell_type": "code",
   "execution_count": 1,
   "metadata": {},
   "outputs": [
    {
     "name": "stderr",
     "output_type": "stream",
     "text": [
      "2023-08-02 11:09:27.217601: I tensorflow/core/platform/cpu_feature_guard.cc:182] This TensorFlow binary is optimized to use available CPU instructions in performance-critical operations.\n",
      "To enable the following instructions: AVX2 FMA, in other operations, rebuild TensorFlow with the appropriate compiler flags.\n"
     ]
    }
   ],
   "source": [
    "# Import libraries. You may or may not use all of these.\n",
    "!pip install -q git+https://github.com/tensorflow/docs\n",
    "import matplotlib.pyplot as plt\n",
    "import numpy as np\n",
    "import pandas as pd\n",
    "\n",
    "import tensorflow as tf\n",
    "\n",
    "from tensorflow import keras\n",
    "from tensorflow.keras import layers\n",
    "\n",
    "import tensorflow_docs as tfdocs\n",
    "import tensorflow_docs.plots\n",
    "import tensorflow_docs.modeling"
   ]
  },
  {
   "cell_type": "code",
   "execution_count": 2,
   "metadata": {},
   "outputs": [
    {
     "name": "stdout",
     "output_type": "stream",
     "text": [
      "--2023-08-02 11:09:39--  https://cdn.freecodecamp.org/project-data/health-costs/insurance.csv\n",
      "Resolving cdn.freecodecamp.org (cdn.freecodecamp.org)... 172.67.70.149, 104.26.2.33, 104.26.3.33\n",
      "Connecting to cdn.freecodecamp.org (cdn.freecodecamp.org)|172.67.70.149|:443... connected.\n",
      "HTTP request sent, awaiting response... 200 OK\n",
      "Length: 50264 (49K) [text/csv]\n",
      "Saving to: ‘insurance.csv’\n",
      "\n",
      "insurance.csv       100%[===================>]  49.09K  --.-KB/s    in 0.008s  \n",
      "\n",
      "2023-08-02 11:09:39 (6.29 MB/s) - ‘insurance.csv’ saved [50264/50264]\n",
      "\n"
     ]
    },
    {
     "data": {
      "text/html": [
       "<div>\n",
       "<style scoped>\n",
       "    .dataframe tbody tr th:only-of-type {\n",
       "        vertical-align: middle;\n",
       "    }\n",
       "\n",
       "    .dataframe tbody tr th {\n",
       "        vertical-align: top;\n",
       "    }\n",
       "\n",
       "    .dataframe thead th {\n",
       "        text-align: right;\n",
       "    }\n",
       "</style>\n",
       "<table border=\"1\" class=\"dataframe\">\n",
       "  <thead>\n",
       "    <tr style=\"text-align: right;\">\n",
       "      <th></th>\n",
       "      <th>age</th>\n",
       "      <th>sex</th>\n",
       "      <th>bmi</th>\n",
       "      <th>children</th>\n",
       "      <th>smoker</th>\n",
       "      <th>region</th>\n",
       "      <th>expenses</th>\n",
       "    </tr>\n",
       "  </thead>\n",
       "  <tbody>\n",
       "    <tr>\n",
       "      <th>1333</th>\n",
       "      <td>50</td>\n",
       "      <td>male</td>\n",
       "      <td>31.0</td>\n",
       "      <td>3</td>\n",
       "      <td>no</td>\n",
       "      <td>northwest</td>\n",
       "      <td>10600.55</td>\n",
       "    </tr>\n",
       "    <tr>\n",
       "      <th>1334</th>\n",
       "      <td>18</td>\n",
       "      <td>female</td>\n",
       "      <td>31.9</td>\n",
       "      <td>0</td>\n",
       "      <td>no</td>\n",
       "      <td>northeast</td>\n",
       "      <td>2205.98</td>\n",
       "    </tr>\n",
       "    <tr>\n",
       "      <th>1335</th>\n",
       "      <td>18</td>\n",
       "      <td>female</td>\n",
       "      <td>36.9</td>\n",
       "      <td>0</td>\n",
       "      <td>no</td>\n",
       "      <td>southeast</td>\n",
       "      <td>1629.83</td>\n",
       "    </tr>\n",
       "    <tr>\n",
       "      <th>1336</th>\n",
       "      <td>21</td>\n",
       "      <td>female</td>\n",
       "      <td>25.8</td>\n",
       "      <td>0</td>\n",
       "      <td>no</td>\n",
       "      <td>southwest</td>\n",
       "      <td>2007.95</td>\n",
       "    </tr>\n",
       "    <tr>\n",
       "      <th>1337</th>\n",
       "      <td>61</td>\n",
       "      <td>female</td>\n",
       "      <td>29.1</td>\n",
       "      <td>0</td>\n",
       "      <td>yes</td>\n",
       "      <td>northwest</td>\n",
       "      <td>29141.36</td>\n",
       "    </tr>\n",
       "  </tbody>\n",
       "</table>\n",
       "</div>"
      ],
      "text/plain": [
       "      age     sex   bmi  children smoker     region  expenses\n",
       "1333   50    male  31.0         3     no  northwest  10600.55\n",
       "1334   18  female  31.9         0     no  northeast   2205.98\n",
       "1335   18  female  36.9         0     no  southeast   1629.83\n",
       "1336   21  female  25.8         0     no  southwest   2007.95\n",
       "1337   61  female  29.1         0    yes  northwest  29141.36"
      ]
     },
     "execution_count": 2,
     "metadata": {},
     "output_type": "execute_result"
    }
   ],
   "source": [
    "# Import data\n",
    "!wget https://cdn.freecodecamp.org/project-data/health-costs/insurance.csv\n",
    "dataset = pd.read_csv('insurance.csv')\n",
    "dataset.tail()"
   ]
  },
  {
   "cell_type": "code",
   "execution_count": 4,
   "metadata": {},
   "outputs": [],
   "source": [
    "# Split X & y \n",
    "X = dataset.drop(columns=\"expenses\")\n",
    "y = dataset.expenses"
   ]
  },
  {
   "cell_type": "code",
   "execution_count": 7,
   "metadata": {},
   "outputs": [],
   "source": [
    "# Test train split\n",
    "from sklearn.model_selection import train_test_split\n",
    "\n",
    "X_train, X_test, y_train, y_test = train_test_split(X, y, test_size=0.2)"
   ]
  },
  {
   "cell_type": "code",
   "execution_count": 104,
   "metadata": {},
   "outputs": [],
   "source": [
    "# Transform categorical data\n",
    "from sklearn.preprocessing import OneHotEncoder, RobustScaler\n",
    "from sklearn.pipeline import make_pipeline\n",
    "from sklearn.compose import make_column_transformer\n",
    "\n",
    "\n",
    "cat_features = [\"sex\", \"children\", \"smoker\", \"region\"]\n",
    "cat_pipeline = make_pipeline(OneHotEncoder(handle_unknown=\"ignore\"))\n",
    "preproc_pipeline = make_column_transformer((cat_pipeline, cat_features),\n",
    "                                           remainder=\"passthrough\")\n",
    "\n",
    "preproc_pipeline.fit(X_train)\n",
    "train_dataset = preproc_pipeline.transform(X_train)\n",
    "test_dataset = preproc_pipeline.transform(X_test)\n",
    "train_labels = y_train\n",
    "test_labels = y_test\n"
   ]
  },
  {
   "cell_type": "code",
   "execution_count": 105,
   "metadata": {},
   "outputs": [
    {
     "data": {
      "text/plain": [
       "16"
      ]
     },
     "execution_count": 105,
     "metadata": {},
     "output_type": "execute_result"
    }
   ],
   "source": [
    "train_dataset.shape[1]"
   ]
  },
  {
   "cell_type": "code",
   "execution_count": 106,
   "metadata": {},
   "outputs": [],
   "source": [
    "# Model \n",
    "\n",
    "model = keras.Sequential([layers.Dense(128, input_shape = (16,)), \n",
    "                          layers.Dense(64),\n",
    "                          layers.Dropout(0.2),\n",
    "                          layers.Dense(64),\n",
    "                          layers.Dropout(0.2),\n",
    "                          layers.Dense(1)\n",
    "])\n",
    "\n",
    "model.compile(\n",
    "    optimizer=\"adam\",\n",
    "    loss=\"mae\",\n",
    "    metrics=[\"mae\", \"mse\"]\n",
    ")\n",
    "\n",
    "model.build()"
   ]
  },
  {
   "cell_type": "code",
   "execution_count": 107,
   "metadata": {},
   "outputs": [
    {
     "name": "stdout",
     "output_type": "stream",
     "text": [
      "Model: \"sequential_22\"\n",
      "_________________________________________________________________\n",
      " Layer (type)                Output Shape              Param #   \n",
      "=================================================================\n",
      " dense_68 (Dense)            (None, 128)               2176      \n",
      "                                                                 \n",
      " dense_69 (Dense)            (None, 64)                8256      \n",
      "                                                                 \n",
      " dropout_10 (Dropout)        (None, 64)                0         \n",
      "                                                                 \n",
      " dense_70 (Dense)            (None, 64)                4160      \n",
      "                                                                 \n",
      " dropout_11 (Dropout)        (None, 64)                0         \n",
      "                                                                 \n",
      " dense_71 (Dense)            (None, 1)                 65        \n",
      "                                                                 \n",
      "=================================================================\n",
      "Total params: 14657 (57.25 KB)\n",
      "Trainable params: 14657 (57.25 KB)\n",
      "Non-trainable params: 0 (0.00 Byte)\n",
      "_________________________________________________________________\n"
     ]
    }
   ],
   "source": [
    "model.summary()"
   ]
  },
  {
   "cell_type": "code",
   "execution_count": 108,
   "metadata": {},
   "outputs": [],
   "source": [
    "from tensorflow.keras.callbacks import EarlyStopping\n",
    "\n",
    "es = EarlyStopping(patience = 10,\n",
    "                   restore_best_weights = True)"
   ]
  },
  {
   "cell_type": "code",
   "execution_count": 109,
   "metadata": {},
   "outputs": [
    {
     "name": "stdout",
     "output_type": "stream",
     "text": [
      "Epoch 1/1000\n",
      "24/24 [==============================] - 1s 11ms/step - loss: 12889.7900 - mae: 12889.7900 - mse: 312115168.0000 - val_loss: 13535.1445 - val_mae: 13535.1445 - val_mse: 326276032.0000\n",
      "Epoch 2/1000\n",
      "24/24 [==============================] - 0s 4ms/step - loss: 11606.4004 - mae: 11606.4004 - mse: 277757760.0000 - val_loss: 10897.7676 - val_mae: 10897.7676 - val_mse: 255642976.0000\n",
      "Epoch 3/1000\n",
      "24/24 [==============================] - 0s 4ms/step - loss: 8056.9360 - mae: 8056.9360 - mse: 181290288.0000 - val_loss: 8166.3491 - val_mae: 8166.3491 - val_mse: 148984288.0000\n",
      "Epoch 4/1000\n",
      "24/24 [==============================] - 0s 4ms/step - loss: 7484.4399 - mae: 7484.4399 - mse: 150238864.0000 - val_loss: 8079.1753 - val_mae: 8079.1753 - val_mse: 170687056.0000\n",
      "Epoch 5/1000\n",
      "24/24 [==============================] - 0s 4ms/step - loss: 7327.9961 - mae: 7327.9961 - mse: 156066464.0000 - val_loss: 7938.3994 - val_mae: 7938.3994 - val_mse: 163401264.0000\n",
      "Epoch 6/1000\n",
      "24/24 [==============================] - 0s 4ms/step - loss: 7231.8140 - mae: 7231.8140 - mse: 154829712.0000 - val_loss: 7948.4448 - val_mae: 7948.4448 - val_mse: 171846192.0000\n",
      "Epoch 7/1000\n",
      "24/24 [==============================] - 0s 4ms/step - loss: 7108.0928 - mae: 7108.0928 - mse: 154882336.0000 - val_loss: 7793.1357 - val_mae: 7793.1357 - val_mse: 163529744.0000\n",
      "Epoch 8/1000\n",
      "24/24 [==============================] - 0s 4ms/step - loss: 7050.0723 - mae: 7050.0723 - mse: 156604608.0000 - val_loss: 7730.8706 - val_mae: 7730.8706 - val_mse: 167952352.0000\n",
      "Epoch 9/1000\n",
      "24/24 [==============================] - 0s 4ms/step - loss: 6933.8691 - mae: 6933.8691 - mse: 156006752.0000 - val_loss: 7657.7485 - val_mae: 7657.7485 - val_mse: 169686880.0000\n",
      "Epoch 10/1000\n",
      "24/24 [==============================] - 0s 4ms/step - loss: 6804.1367 - mae: 6804.1367 - mse: 154440704.0000 - val_loss: 7658.2134 - val_mae: 7658.2134 - val_mse: 176151328.0000\n",
      "Epoch 11/1000\n",
      "24/24 [==============================] - 0s 4ms/step - loss: 6692.8667 - mae: 6692.8667 - mse: 157640544.0000 - val_loss: 7480.0835 - val_mae: 7480.0835 - val_mse: 170381152.0000\n",
      "Epoch 12/1000\n",
      "24/24 [==============================] - 0s 4ms/step - loss: 6625.6514 - mae: 6625.6514 - mse: 157881216.0000 - val_loss: 7389.8208 - val_mae: 7389.8208 - val_mse: 169331376.0000\n",
      "Epoch 13/1000\n",
      "24/24 [==============================] - 0s 4ms/step - loss: 6517.1255 - mae: 6517.1255 - mse: 158604000.0000 - val_loss: 7346.8691 - val_mae: 7346.8691 - val_mse: 171090144.0000\n",
      "Epoch 14/1000\n",
      "24/24 [==============================] - 0s 4ms/step - loss: 6477.7671 - mae: 6477.7671 - mse: 155501344.0000 - val_loss: 7350.7935 - val_mae: 7350.7935 - val_mse: 165026048.0000\n",
      "Epoch 15/1000\n",
      "24/24 [==============================] - 0s 4ms/step - loss: 6485.8066 - mae: 6485.8066 - mse: 155283072.0000 - val_loss: 7294.4004 - val_mae: 7294.4004 - val_mse: 169508576.0000\n",
      "Epoch 16/1000\n",
      "24/24 [==============================] - 0s 4ms/step - loss: 6424.8193 - mae: 6424.8193 - mse: 155580960.0000 - val_loss: 7270.6362 - val_mae: 7270.6362 - val_mse: 169261984.0000\n",
      "Epoch 17/1000\n",
      "24/24 [==============================] - 0s 4ms/step - loss: 6379.0967 - mae: 6379.0967 - mse: 153383712.0000 - val_loss: 7240.7588 - val_mae: 7240.7588 - val_mse: 168031056.0000\n",
      "Epoch 18/1000\n",
      "24/24 [==============================] - 0s 4ms/step - loss: 6390.6548 - mae: 6390.6548 - mse: 155167696.0000 - val_loss: 7205.9009 - val_mae: 7205.9009 - val_mse: 166747552.0000\n",
      "Epoch 19/1000\n",
      "24/24 [==============================] - 0s 11ms/step - loss: 6339.5386 - mae: 6339.5386 - mse: 151538048.0000 - val_loss: 7177.8403 - val_mae: 7177.8403 - val_mse: 166667168.0000\n",
      "Epoch 20/1000\n",
      "24/24 [==============================] - 0s 4ms/step - loss: 6299.7051 - mae: 6299.7051 - mse: 151591568.0000 - val_loss: 7149.6318 - val_mae: 7149.6318 - val_mse: 165974320.0000\n",
      "Epoch 21/1000\n",
      "24/24 [==============================] - 0s 5ms/step - loss: 6275.9746 - mae: 6275.9746 - mse: 150550544.0000 - val_loss: 7107.6792 - val_mae: 7107.6792 - val_mse: 161951680.0000\n",
      "Epoch 22/1000\n",
      "24/24 [==============================] - 0s 5ms/step - loss: 6239.3745 - mae: 6239.3745 - mse: 149925360.0000 - val_loss: 7080.5054 - val_mae: 7080.5054 - val_mse: 164150448.0000\n",
      "Epoch 23/1000\n",
      "24/24 [==============================] - 0s 5ms/step - loss: 6231.4365 - mae: 6231.4365 - mse: 147599760.0000 - val_loss: 7033.1533 - val_mae: 7033.1533 - val_mse: 158396576.0000\n",
      "Epoch 24/1000\n",
      "24/24 [==============================] - 0s 4ms/step - loss: 6166.1787 - mae: 6166.1787 - mse: 146004688.0000 - val_loss: 7022.1123 - val_mae: 7022.1123 - val_mse: 153487744.0000\n",
      "Epoch 25/1000\n",
      "24/24 [==============================] - 0s 4ms/step - loss: 6182.0312 - mae: 6182.0312 - mse: 145838480.0000 - val_loss: 6934.8379 - val_mae: 6934.8379 - val_mse: 155064880.0000\n",
      "Epoch 26/1000\n",
      "24/24 [==============================] - 0s 4ms/step - loss: 6100.4453 - mae: 6100.4453 - mse: 143549712.0000 - val_loss: 6919.6753 - val_mae: 6919.6753 - val_mse: 159119792.0000\n",
      "Epoch 27/1000\n",
      "24/24 [==============================] - 0s 5ms/step - loss: 6058.1855 - mae: 6058.1855 - mse: 141344672.0000 - val_loss: 6852.4307 - val_mae: 6852.4307 - val_mse: 148027616.0000\n",
      "Epoch 28/1000\n",
      "24/24 [==============================] - 0s 4ms/step - loss: 6013.6660 - mae: 6013.6660 - mse: 138221952.0000 - val_loss: 6752.1792 - val_mae: 6752.1792 - val_mse: 151066032.0000\n",
      "Epoch 29/1000\n",
      "24/24 [==============================] - 0s 4ms/step - loss: 5929.1582 - mae: 5929.1582 - mse: 133967432.0000 - val_loss: 6710.9253 - val_mae: 6710.9253 - val_mse: 150924256.0000\n",
      "Epoch 30/1000\n",
      "24/24 [==============================] - 0s 5ms/step - loss: 5885.2617 - mae: 5885.2617 - mse: 134160136.0000 - val_loss: 6600.1387 - val_mae: 6600.1387 - val_mse: 146046304.0000\n",
      "Epoch 31/1000\n",
      "24/24 [==============================] - 0s 4ms/step - loss: 5724.8853 - mae: 5724.8853 - mse: 128714672.0000 - val_loss: 6490.5884 - val_mae: 6490.5884 - val_mse: 139693568.0000\n",
      "Epoch 32/1000\n",
      "24/24 [==============================] - 0s 4ms/step - loss: 5683.6313 - mae: 5683.6313 - mse: 127463584.0000 - val_loss: 6378.7549 - val_mae: 6378.7549 - val_mse: 135939936.0000\n",
      "Epoch 33/1000\n",
      "24/24 [==============================] - 0s 4ms/step - loss: 5607.7812 - mae: 5607.7812 - mse: 122417336.0000 - val_loss: 6249.7085 - val_mae: 6249.7085 - val_mse: 129000816.0000\n",
      "Epoch 34/1000\n",
      "24/24 [==============================] - 0s 5ms/step - loss: 5477.5332 - mae: 5477.5332 - mse: 117190488.0000 - val_loss: 6104.2422 - val_mae: 6104.2422 - val_mse: 126920888.0000\n",
      "Epoch 35/1000\n",
      "24/24 [==============================] - 0s 4ms/step - loss: 5333.8252 - mae: 5333.8252 - mse: 111148544.0000 - val_loss: 5916.5273 - val_mae: 5916.5273 - val_mse: 114584768.0000\n",
      "Epoch 36/1000\n",
      "24/24 [==============================] - 0s 4ms/step - loss: 5175.7944 - mae: 5175.7944 - mse: 104371648.0000 - val_loss: 5686.3560 - val_mae: 5686.3560 - val_mse: 110974536.0000\n",
      "Epoch 37/1000\n",
      "24/24 [==============================] - 0s 11ms/step - loss: 4968.3047 - mae: 4968.3047 - mse: 96830272.0000 - val_loss: 5392.0615 - val_mae: 5392.0615 - val_mse: 99586456.0000\n",
      "Epoch 38/1000\n",
      "24/24 [==============================] - 0s 4ms/step - loss: 4735.3516 - mae: 4735.3516 - mse: 87399336.0000 - val_loss: 5054.3994 - val_mae: 5054.3994 - val_mse: 86145504.0000\n",
      "Epoch 39/1000\n",
      "24/24 [==============================] - 0s 4ms/step - loss: 4536.4941 - mae: 4536.4941 - mse: 78165536.0000 - val_loss: 4780.0469 - val_mae: 4780.0469 - val_mse: 82570312.0000\n",
      "Epoch 40/1000\n",
      "24/24 [==============================] - 0s 5ms/step - loss: 4235.1997 - mae: 4235.1997 - mse: 66152304.0000 - val_loss: 4354.0840 - val_mae: 4354.0840 - val_mse: 68765120.0000\n",
      "Epoch 41/1000\n",
      "24/24 [==============================] - 0s 5ms/step - loss: 4074.0657 - mae: 4074.0657 - mse: 60407960.0000 - val_loss: 4238.9058 - val_mae: 4238.9058 - val_mse: 64022968.0000\n",
      "Epoch 42/1000\n",
      "24/24 [==============================] - 0s 4ms/step - loss: 3935.0073 - mae: 3935.0073 - mse: 55689824.0000 - val_loss: 4228.9644 - val_mae: 4228.9644 - val_mse: 62078816.0000\n",
      "Epoch 43/1000\n",
      "24/24 [==============================] - 0s 4ms/step - loss: 3868.1072 - mae: 3868.1072 - mse: 53275828.0000 - val_loss: 4173.9663 - val_mae: 4173.9663 - val_mse: 58366584.0000\n",
      "Epoch 44/1000\n",
      "24/24 [==============================] - 0s 4ms/step - loss: 3820.8794 - mae: 3820.8794 - mse: 51469024.0000 - val_loss: 4165.5337 - val_mae: 4165.5337 - val_mse: 55602140.0000\n",
      "Epoch 45/1000\n",
      "24/24 [==============================] - 0s 4ms/step - loss: 3846.2307 - mae: 3846.2307 - mse: 50393180.0000 - val_loss: 4161.0376 - val_mae: 4161.0376 - val_mse: 54819188.0000\n",
      "Epoch 46/1000\n",
      "24/24 [==============================] - 0s 4ms/step - loss: 3800.3374 - mae: 3800.3374 - mse: 48833172.0000 - val_loss: 4177.5415 - val_mae: 4177.5415 - val_mse: 51112784.0000\n",
      "Epoch 47/1000\n",
      "24/24 [==============================] - 0s 4ms/step - loss: 3710.1526 - mae: 3710.1526 - mse: 46026604.0000 - val_loss: 4156.2324 - val_mae: 4156.2324 - val_mse: 53186316.0000\n",
      "Epoch 48/1000\n",
      "24/24 [==============================] - 0s 4ms/step - loss: 3745.7146 - mae: 3745.7146 - mse: 45126772.0000 - val_loss: 4158.7852 - val_mae: 4158.7852 - val_mse: 49452936.0000\n",
      "Epoch 49/1000\n",
      "24/24 [==============================] - 0s 4ms/step - loss: 3779.3394 - mae: 3779.3394 - mse: 47099288.0000 - val_loss: 4346.2944 - val_mae: 4346.2944 - val_mse: 46721268.0000\n",
      "Epoch 50/1000\n",
      "24/24 [==============================] - 0s 4ms/step - loss: 3721.2153 - mae: 3721.2153 - mse: 44650820.0000 - val_loss: 4226.2583 - val_mae: 4226.2583 - val_mse: 51747780.0000\n",
      "Epoch 51/1000\n",
      "24/24 [==============================] - 0s 4ms/step - loss: 3669.0815 - mae: 3669.0815 - mse: 43367372.0000 - val_loss: 4259.1533 - val_mae: 4259.1533 - val_mse: 51597724.0000\n",
      "Epoch 52/1000\n",
      "24/24 [==============================] - 0s 4ms/step - loss: 3707.4934 - mae: 3707.4934 - mse: 43071208.0000 - val_loss: 4190.3262 - val_mae: 4190.3262 - val_mse: 46390544.0000\n",
      "Epoch 53/1000\n",
      "24/24 [==============================] - 0s 5ms/step - loss: 3697.3828 - mae: 3697.3828 - mse: 42072316.0000 - val_loss: 4157.9775 - val_mae: 4157.9775 - val_mse: 48119912.0000\n",
      "Epoch 54/1000\n",
      "24/24 [==============================] - 0s 11ms/step - loss: 3713.5854 - mae: 3713.5854 - mse: 43180376.0000 - val_loss: 4162.2202 - val_mae: 4162.2202 - val_mse: 46080964.0000\n",
      "Epoch 55/1000\n",
      "24/24 [==============================] - 0s 4ms/step - loss: 3637.3894 - mae: 3637.3894 - mse: 40772160.0000 - val_loss: 4322.9131 - val_mae: 4322.9131 - val_mse: 44505972.0000\n",
      "Epoch 56/1000\n",
      "24/24 [==============================] - 0s 4ms/step - loss: 3651.7793 - mae: 3651.7793 - mse: 41299392.0000 - val_loss: 4146.1133 - val_mae: 4146.1133 - val_mse: 46035804.0000\n",
      "Epoch 57/1000\n",
      "24/24 [==============================] - 0s 4ms/step - loss: 3605.3616 - mae: 3605.3616 - mse: 39172224.0000 - val_loss: 4143.3657 - val_mae: 4143.3657 - val_mse: 46291480.0000\n",
      "Epoch 58/1000\n",
      "24/24 [==============================] - 0s 4ms/step - loss: 3533.8291 - mae: 3533.8291 - mse: 38604276.0000 - val_loss: 4170.5137 - val_mae: 4170.5137 - val_mse: 47489320.0000\n",
      "Epoch 59/1000\n",
      "24/24 [==============================] - 0s 5ms/step - loss: 3556.6174 - mae: 3556.6174 - mse: 38903096.0000 - val_loss: 4133.0137 - val_mae: 4133.0137 - val_mse: 47079792.0000\n",
      "Epoch 60/1000\n",
      "24/24 [==============================] - 0s 4ms/step - loss: 3573.3582 - mae: 3573.3582 - mse: 38843900.0000 - val_loss: 4387.3086 - val_mae: 4387.3086 - val_mse: 44909024.0000\n",
      "Epoch 61/1000\n",
      "24/24 [==============================] - 0s 4ms/step - loss: 3578.9026 - mae: 3578.9026 - mse: 38793020.0000 - val_loss: 4154.2783 - val_mae: 4154.2783 - val_mse: 46597436.0000\n",
      "Epoch 62/1000\n",
      "24/24 [==============================] - 0s 4ms/step - loss: 3575.5444 - mae: 3575.5444 - mse: 39467256.0000 - val_loss: 4150.2944 - val_mae: 4150.2944 - val_mse: 47412644.0000\n",
      "Epoch 63/1000\n",
      "24/24 [==============================] - 0s 5ms/step - loss: 3575.2180 - mae: 3575.2180 - mse: 40256692.0000 - val_loss: 4301.5454 - val_mae: 4301.5454 - val_mse: 49554784.0000\n",
      "Epoch 64/1000\n",
      "24/24 [==============================] - 0s 4ms/step - loss: 3614.0144 - mae: 3614.0144 - mse: 42536148.0000 - val_loss: 4146.0854 - val_mae: 4146.0854 - val_mse: 48838560.0000\n",
      "Epoch 65/1000\n",
      "24/24 [==============================] - 0s 4ms/step - loss: 3555.2327 - mae: 3555.2327 - mse: 40959456.0000 - val_loss: 4209.0034 - val_mae: 4209.0034 - val_mse: 49660228.0000\n",
      "Epoch 66/1000\n",
      "24/24 [==============================] - 0s 4ms/step - loss: 3508.1885 - mae: 3508.1885 - mse: 39495652.0000 - val_loss: 4150.3413 - val_mae: 4150.3413 - val_mse: 49956872.0000\n",
      "Epoch 67/1000\n",
      "24/24 [==============================] - 0s 4ms/step - loss: 3616.1101 - mae: 3616.1101 - mse: 42316148.0000 - val_loss: 4154.3345 - val_mae: 4154.3345 - val_mse: 49289996.0000\n",
      "Epoch 68/1000\n",
      "24/24 [==============================] - 0s 4ms/step - loss: 3483.2390 - mae: 3483.2390 - mse: 37877056.0000 - val_loss: 4151.2490 - val_mae: 4151.2490 - val_mse: 49715384.0000\n",
      "Epoch 69/1000\n",
      "24/24 [==============================] - 0s 4ms/step - loss: 3534.5410 - mae: 3534.5410 - mse: 41389556.0000 - val_loss: 4434.0767 - val_mae: 4434.0767 - val_mse: 50354424.0000\n"
     ]
    }
   ],
   "source": [
    "history = model.fit(train_dataset, \n",
    "                    train_labels, \n",
    "                    epochs=1000,\n",
    "                    validation_split=0.3,\n",
    "                    callbacks=[es])"
   ]
  },
  {
   "cell_type": "code",
   "execution_count": 110,
   "metadata": {},
   "outputs": [
    {
     "name": "stdout",
     "output_type": "stream",
     "text": [
      "9/9 - 0s - loss: 3445.5657 - mae: 3445.5657 - mse: 40416268.0000 - 65ms/epoch - 7ms/step\n",
      "Testing set Mean Abs Error: 3445.57 expenses\n",
      "You passed the challenge. Great job!\n",
      "9/9 [==============================] - 0s 3ms/step\n"
     ]
    },
    {
     "data": {
      "image/png": "[encoded data removed]",
      "text/plain": [
       "<Figure size 640x480 with 1 Axes>"
      ]
     },
     "metadata": {},
     "output_type": "display_data"
    }
   ],
   "source": [
    "# RUN THIS CELL TO TEST YOUR MODEL. DO NOT MODIFY CONTENTS.\n",
    "# Test model by checking how well the model generalizes using the test set.\n",
    "loss, mae, mse = model.evaluate(test_dataset, test_labels, verbose=2)\n",
    "\n",
    "print(\"Testing set Mean Abs Error: {:5.2f} expenses\".format(mae))\n",
    "\n",
    "if mae < 3500:\n",
    "  print(\"You passed the challenge. Great job!\")\n",
    "else:\n",
    "  print(\"The Mean Abs Error must be less than 3500. Keep trying.\")\n",
    "\n",
    "# Plot predictions.\n",
    "test_predictions = model.predict(test_dataset).flatten()\n",
    "\n",
    "a = plt.axes(aspect='equal')\n",
    "plt.scatter(test_labels, test_predictions)\n",
    "plt.xlabel('True values (expenses)')\n",
    "plt.ylabel('Predictions (expenses)')\n",
    "lims = [0, 50000]\n",
    "plt.xlim(lims)\n",
    "plt.ylim(lims)\n",
    "_ = plt.plot(lims,lims)\n"
   ]
  },
  {
   "cell_type": "code",
   "execution_count": null,
   "metadata": {},
   "outputs": [],
   "source": []
  }
 ],
 "metadata": {
  "kernelspec": {
   "display_name": "lewagon_current",
   "language": "python",
   "name": "python3"
  },
  "language_info": {
   "codemirror_mode": {
    "name": "ipython",
    "version": 3
   },
   "file_extension": ".py",
   "mimetype": "text/x-python",
   "name": "python",
   "nbconvert_exporter": "python",
   "pygments_lexer": "ipython3",
   "version": "3.10.6"
  },
  "orig_nbformat": 4
 },
 "nbformat": 4,
 "nbformat_minor": 2
}
